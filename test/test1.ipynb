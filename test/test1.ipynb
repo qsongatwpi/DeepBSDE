{
 "cells": [
  {
   "cell_type": "code",
   "execution_count": 7,
   "id": "a9c88c2d",
   "metadata": {},
   "outputs": [
    {
     "name": "stdout",
     "output_type": "stream",
     "text": [
      "/Users/qsong/Documents/GitHub/DeepBSDE\n"
     ]
    }
   ],
   "source": [
    "%cd /Users/qsong/Documents/GitHub/DeepBSDE"
   ]
  },
  {
   "cell_type": "code",
   "execution_count": 9,
   "id": "18b80f53",
   "metadata": {},
   "outputs": [
    {
     "name": "stdout",
     "output_type": "stream",
     "text": [
      "INFO   Begin to solve HJBLQ \n",
      "INFO   step:     0,    loss: 1.6310e+01, Y0: 5.6278e-01,   elapsed time:   0\n",
      "INFO   step:     0,    loss: 1.6310e+01, Y0: 5.6278e-01,   elapsed time:   0\n",
      "INFO   step:   100,    loss: 8.8887e+00, Y0: 1.5106e+00,   elapsed time:  12\n",
      "INFO   step:   100,    loss: 8.8887e+00, Y0: 1.5106e+00,   elapsed time:  12\n",
      "INFO   step:   200,    loss: 4.2529e+00, Y0: 2.2511e+00,   elapsed time:  14\n",
      "INFO   step:   200,    loss: 4.2529e+00, Y0: 2.2511e+00,   elapsed time:  14\n",
      "INFO   step:   300,    loss: 2.9214e+00, Y0: 2.7272e+00,   elapsed time:  16\n",
      "INFO   step:   300,    loss: 2.9214e+00, Y0: 2.7272e+00,   elapsed time:  16\n",
      "INFO   step:   400,    loss: 2.2217e+00, Y0: 3.0926e+00,   elapsed time:  19\n",
      "INFO   step:   400,    loss: 2.2217e+00, Y0: 3.0926e+00,   elapsed time:  19\n",
      "INFO   step:   500,    loss: 1.5269e+00, Y0: 3.4514e+00,   elapsed time:  21\n",
      "INFO   step:   500,    loss: 1.5269e+00, Y0: 3.4514e+00,   elapsed time:  21\n",
      "INFO   step:   600,    loss: 8.4843e-01, Y0: 3.8085e+00,   elapsed time:  23\n",
      "INFO   step:   600,    loss: 8.4843e-01, Y0: 3.8085e+00,   elapsed time:  23\n",
      "INFO   step:   700,    loss: 3.7986e-01, Y0: 4.1081e+00,   elapsed time:  26\n",
      "INFO   step:   700,    loss: 3.7986e-01, Y0: 4.1081e+00,   elapsed time:  26\n",
      "INFO   step:   800,    loss: 1.2646e-01, Y0: 4.3374e+00,   elapsed time:  28\n",
      "INFO   step:   800,    loss: 1.2646e-01, Y0: 4.3374e+00,   elapsed time:  28\n",
      "INFO   step:   900,    loss: 4.0227e-02, Y0: 4.4789e+00,   elapsed time:  30\n",
      "INFO   step:   900,    loss: 4.0227e-02, Y0: 4.4789e+00,   elapsed time:  30\n",
      "INFO   step:  1000,    loss: 2.3492e-02, Y0: 4.5474e+00,   elapsed time:  33\n",
      "INFO   step:  1000,    loss: 2.3492e-02, Y0: 4.5474e+00,   elapsed time:  33\n",
      "INFO   step:  1100,    loss: 2.0665e-02, Y0: 4.5776e+00,   elapsed time:  35\n",
      "INFO   step:  1100,    loss: 2.0665e-02, Y0: 4.5776e+00,   elapsed time:  35\n",
      "INFO   step:  1200,    loss: 2.0172e-02, Y0: 4.5916e+00,   elapsed time:  37\n",
      "INFO   step:  1200,    loss: 2.0172e-02, Y0: 4.5916e+00,   elapsed time:  37\n",
      "INFO   step:  1300,    loss: 2.0583e-02, Y0: 4.5987e+00,   elapsed time:  40\n",
      "INFO   step:  1300,    loss: 2.0583e-02, Y0: 4.5987e+00,   elapsed time:  40\n",
      "INFO   step:  1400,    loss: 2.0520e-02, Y0: 4.5974e+00,   elapsed time:  42\n",
      "INFO   step:  1400,    loss: 2.0520e-02, Y0: 4.5974e+00,   elapsed time:  42\n",
      "INFO   step:  1500,    loss: 2.0848e-02, Y0: 4.5989e+00,   elapsed time:  45\n",
      "INFO   step:  1500,    loss: 2.0848e-02, Y0: 4.5989e+00,   elapsed time:  45\n",
      "INFO   step:  1600,    loss: 2.0941e-02, Y0: 4.5978e+00,   elapsed time:  47\n",
      "INFO   step:  1600,    loss: 2.0941e-02, Y0: 4.5978e+00,   elapsed time:  47\n",
      "INFO   step:  1700,    loss: 2.0745e-02, Y0: 4.6017e+00,   elapsed time:  49\n",
      "INFO   step:  1700,    loss: 2.0745e-02, Y0: 4.6017e+00,   elapsed time:  49\n",
      "INFO   step:  1800,    loss: 2.0436e-02, Y0: 4.6023e+00,   elapsed time:  52\n",
      "INFO   step:  1800,    loss: 2.0436e-02, Y0: 4.6023e+00,   elapsed time:  52\n",
      "INFO   step:  1900,    loss: 2.0134e-02, Y0: 4.5994e+00,   elapsed time:  55\n",
      "INFO   step:  1900,    loss: 2.0134e-02, Y0: 4.5994e+00,   elapsed time:  55\n",
      "INFO   step:  2000,    loss: 2.0568e-02, Y0: 4.6001e+00,   elapsed time:  57\n",
      "INFO   step:  2000,    loss: 2.0568e-02, Y0: 4.6001e+00,   elapsed time:  57\n"
     ]
    }
   ],
   "source": [
    "# You can now run project commands from the notebook kernel, for example:\n",
    "!python main.py --config_path=configs/hjb_lq_d100.json"
   ]
  },
  {
   "cell_type": "code",
   "execution_count": null,
   "id": "3618c459",
   "metadata": {},
   "outputs": [],
   "source": []
  }
 ],
 "metadata": {
  "kernelspec": {
   "display_name": "deepbsde",
   "language": "python",
   "name": "python3"
  },
  "language_info": {
   "codemirror_mode": {
    "name": "ipython",
    "version": 3
   },
   "file_extension": ".py",
   "mimetype": "text/x-python",
   "name": "python",
   "nbconvert_exporter": "python",
   "pygments_lexer": "ipython3",
   "version": "3.11.13"
  }
 },
 "nbformat": 4,
 "nbformat_minor": 5
}
