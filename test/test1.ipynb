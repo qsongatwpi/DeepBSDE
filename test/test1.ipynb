{
 "cells": [
  {
   "cell_type": "markdown",
   "id": "410ecb50",
   "metadata": {},
   "source": [
    "# DeepBSDE\n",
    "\n",
    "## First example: HJB_LQ"
   ]
  },
  {
   "cell_type": "code",
   "execution_count": 7,
   "id": "a9c88c2d",
   "metadata": {},
   "outputs": [
    {
     "name": "stdout",
     "output_type": "stream",
     "text": [
      "/Users/qsong/Documents/GitHub/DeepBSDE\n"
     ]
    }
   ],
   "source": [
    "%cd /Users/qsong/Documents/GitHub/DeepBSDE"
   ]
  },
  {
   "cell_type": "code",
   "execution_count": 9,
   "id": "18b80f53",
   "metadata": {},
   "outputs": [
    {
     "name": "stdout",
     "output_type": "stream",
     "text": [
      "INFO   Begin to solve HJBLQ \n",
      "INFO   step:     0,    loss: 1.6310e+01, Y0: 5.6278e-01,   elapsed time:   0\n",
      "INFO   step:     0,    loss: 1.6310e+01, Y0: 5.6278e-01,   elapsed time:   0\n",
      "INFO   step:   100,    loss: 8.8887e+00, Y0: 1.5106e+00,   elapsed time:  12\n",
      "INFO   step:   100,    loss: 8.8887e+00, Y0: 1.5106e+00,   elapsed time:  12\n",
      "INFO   step:   200,    loss: 4.2529e+00, Y0: 2.2511e+00,   elapsed time:  14\n",
      "INFO   step:   200,    loss: 4.2529e+00, Y0: 2.2511e+00,   elapsed time:  14\n",
      "INFO   step:   300,    loss: 2.9214e+00, Y0: 2.7272e+00,   elapsed time:  16\n",
      "INFO   step:   300,    loss: 2.9214e+00, Y0: 2.7272e+00,   elapsed time:  16\n",
      "INFO   step:   400,    loss: 2.2217e+00, Y0: 3.0926e+00,   elapsed time:  19\n",
      "INFO   step:   400,    loss: 2.2217e+00, Y0: 3.0926e+00,   elapsed time:  19\n",
      "INFO   step:   500,    loss: 1.5269e+00, Y0: 3.4514e+00,   elapsed time:  21\n",
      "INFO   step:   500,    loss: 1.5269e+00, Y0: 3.4514e+00,   elapsed time:  21\n",
      "INFO   step:   600,    loss: 8.4843e-01, Y0: 3.8085e+00,   elapsed time:  23\n",
      "INFO   step:   600,    loss: 8.4843e-01, Y0: 3.8085e+00,   elapsed time:  23\n",
      "INFO   step:   700,    loss: 3.7986e-01, Y0: 4.1081e+00,   elapsed time:  26\n",
      "INFO   step:   700,    loss: 3.7986e-01, Y0: 4.1081e+00,   elapsed time:  26\n",
      "INFO   step:   800,    loss: 1.2646e-01, Y0: 4.3374e+00,   elapsed time:  28\n",
      "INFO   step:   800,    loss: 1.2646e-01, Y0: 4.3374e+00,   elapsed time:  28\n",
      "INFO   step:   900,    loss: 4.0227e-02, Y0: 4.4789e+00,   elapsed time:  30\n",
      "INFO   step:   900,    loss: 4.0227e-02, Y0: 4.4789e+00,   elapsed time:  30\n",
      "INFO   step:  1000,    loss: 2.3492e-02, Y0: 4.5474e+00,   elapsed time:  33\n",
      "INFO   step:  1000,    loss: 2.3492e-02, Y0: 4.5474e+00,   elapsed time:  33\n",
      "INFO   step:  1100,    loss: 2.0665e-02, Y0: 4.5776e+00,   elapsed time:  35\n",
      "INFO   step:  1100,    loss: 2.0665e-02, Y0: 4.5776e+00,   elapsed time:  35\n",
      "INFO   step:  1200,    loss: 2.0172e-02, Y0: 4.5916e+00,   elapsed time:  37\n",
      "INFO   step:  1200,    loss: 2.0172e-02, Y0: 4.5916e+00,   elapsed time:  37\n",
      "INFO   step:  1300,    loss: 2.0583e-02, Y0: 4.5987e+00,   elapsed time:  40\n",
      "INFO   step:  1300,    loss: 2.0583e-02, Y0: 4.5987e+00,   elapsed time:  40\n",
      "INFO   step:  1400,    loss: 2.0520e-02, Y0: 4.5974e+00,   elapsed time:  42\n",
      "INFO   step:  1400,    loss: 2.0520e-02, Y0: 4.5974e+00,   elapsed time:  42\n",
      "INFO   step:  1500,    loss: 2.0848e-02, Y0: 4.5989e+00,   elapsed time:  45\n",
      "INFO   step:  1500,    loss: 2.0848e-02, Y0: 4.5989e+00,   elapsed time:  45\n",
      "INFO   step:  1600,    loss: 2.0941e-02, Y0: 4.5978e+00,   elapsed time:  47\n",
      "INFO   step:  1600,    loss: 2.0941e-02, Y0: 4.5978e+00,   elapsed time:  47\n",
      "INFO   step:  1700,    loss: 2.0745e-02, Y0: 4.6017e+00,   elapsed time:  49\n",
      "INFO   step:  1700,    loss: 2.0745e-02, Y0: 4.6017e+00,   elapsed time:  49\n",
      "INFO   step:  1800,    loss: 2.0436e-02, Y0: 4.6023e+00,   elapsed time:  52\n",
      "INFO   step:  1800,    loss: 2.0436e-02, Y0: 4.6023e+00,   elapsed time:  52\n",
      "INFO   step:  1900,    loss: 2.0134e-02, Y0: 4.5994e+00,   elapsed time:  55\n",
      "INFO   step:  1900,    loss: 2.0134e-02, Y0: 4.5994e+00,   elapsed time:  55\n",
      "INFO   step:  2000,    loss: 2.0568e-02, Y0: 4.6001e+00,   elapsed time:  57\n",
      "INFO   step:  2000,    loss: 2.0568e-02, Y0: 4.6001e+00,   elapsed time:  57\n"
     ]
    }
   ],
   "source": [
    "# You can now run project commands from the notebook kernel, for example:\n",
    "!python main.py --config_path=configs/hjb_lq_d100.json"
   ]
  },
  {
   "cell_type": "markdown",
   "id": "5253441f",
   "metadata": {},
   "source": [
    "- The last row shows that the solution $Y_0 = 4.6001$."
   ]
  },
  {
   "cell_type": "markdown",
   "id": "53d99a55",
   "metadata": {},
   "source": [
    "## Second example: Pricing_default_risk"
   ]
  },
  {
   "cell_type": "code",
   "execution_count": 10,
   "id": "3618c459",
   "metadata": {},
   "outputs": [
    {
     "name": "stdout",
     "output_type": "stream",
     "text": [
      "INFO   Begin to solve PricingDefaultRisk \n",
      "INFO   step:     0,    loss: 9.3318e+01, Y0: 4.8420e+01,   elapsed time:   1\n",
      "INFO   step:     0,    loss: 9.3318e+01, Y0: 4.8420e+01,   elapsed time:   1\n",
      "INFO   step:   100,    loss: 8.1554e+01, Y0: 4.9206e+01,   elapsed time:  25\n",
      "INFO   step:   100,    loss: 8.1554e+01, Y0: 4.9206e+01,   elapsed time:  25\n",
      "INFO   step:   200,    loss: 7.1758e+01, Y0: 4.9939e+01,   elapsed time:  30\n",
      "INFO   step:   200,    loss: 7.1758e+01, Y0: 4.9939e+01,   elapsed time:  30\n",
      "INFO   step:   300,    loss: 6.3702e+01, Y0: 5.0621e+01,   elapsed time:  35\n",
      "INFO   step:   300,    loss: 6.3702e+01, Y0: 5.0621e+01,   elapsed time:  35\n",
      "INFO   step:   400,    loss: 5.6802e+01, Y0: 5.1269e+01,   elapsed time:  40\n",
      "INFO   step:   400,    loss: 5.6802e+01, Y0: 5.1269e+01,   elapsed time:  40\n",
      "INFO   step:   500,    loss: 5.1023e+01, Y0: 5.1879e+01,   elapsed time:  45\n",
      "INFO   step:   500,    loss: 5.1023e+01, Y0: 5.1879e+01,   elapsed time:  45\n",
      "INFO   step:   600,    loss: 4.5980e+01, Y0: 5.2465e+01,   elapsed time:  51\n",
      "INFO   step:   600,    loss: 4.5980e+01, Y0: 5.2465e+01,   elapsed time:  51\n",
      "INFO   step:   700,    loss: 4.1813e+01, Y0: 5.3005e+01,   elapsed time:  56\n",
      "INFO   step:   700,    loss: 4.1813e+01, Y0: 5.3005e+01,   elapsed time:  56\n",
      "INFO   step:   800,    loss: 3.8462e+01, Y0: 5.3497e+01,   elapsed time:  61\n",
      "INFO   step:   800,    loss: 3.8462e+01, Y0: 5.3497e+01,   elapsed time:  61\n",
      "INFO   step:   900,    loss: 3.5531e+01, Y0: 5.3976e+01,   elapsed time:  66\n",
      "INFO   step:   900,    loss: 3.5531e+01, Y0: 5.3976e+01,   elapsed time:  66\n",
      "INFO   step:  1000,    loss: 3.3266e+01, Y0: 5.4396e+01,   elapsed time:  71\n",
      "INFO   step:  1000,    loss: 3.3266e+01, Y0: 5.4396e+01,   elapsed time:  71\n",
      "INFO   step:  1100,    loss: 3.1388e+01, Y0: 5.4798e+01,   elapsed time:  76\n",
      "INFO   step:  1100,    loss: 3.1388e+01, Y0: 5.4798e+01,   elapsed time:  76\n",
      "INFO   step:  1200,    loss: 3.0072e+01, Y0: 5.5132e+01,   elapsed time:  81\n",
      "INFO   step:  1200,    loss: 3.0072e+01, Y0: 5.5132e+01,   elapsed time:  81\n",
      "INFO   step:  1300,    loss: 2.9024e+01, Y0: 5.5437e+01,   elapsed time:  86\n",
      "INFO   step:  1300,    loss: 2.9024e+01, Y0: 5.5437e+01,   elapsed time:  86\n",
      "INFO   step:  1400,    loss: 2.8239e+01, Y0: 5.5711e+01,   elapsed time:  91\n",
      "INFO   step:  1400,    loss: 2.8239e+01, Y0: 5.5711e+01,   elapsed time:  91\n",
      "INFO   step:  1500,    loss: 2.7622e+01, Y0: 5.5959e+01,   elapsed time:  96\n",
      "INFO   step:  1500,    loss: 2.7622e+01, Y0: 5.5959e+01,   elapsed time:  96\n",
      "INFO   step:  1600,    loss: 2.7117e+01, Y0: 5.6160e+01,   elapsed time: 102\n",
      "INFO   step:  1600,    loss: 2.7117e+01, Y0: 5.6160e+01,   elapsed time: 102\n",
      "INFO   step:  1700,    loss: 2.6825e+01, Y0: 5.6326e+01,   elapsed time: 107\n",
      "INFO   step:  1700,    loss: 2.6825e+01, Y0: 5.6326e+01,   elapsed time: 107\n",
      "INFO   step:  1800,    loss: 2.6516e+01, Y0: 5.6499e+01,   elapsed time: 112\n",
      "INFO   step:  1800,    loss: 2.6516e+01, Y0: 5.6499e+01,   elapsed time: 112\n",
      "INFO   step:  1900,    loss: 2.6350e+01, Y0: 5.6616e+01,   elapsed time: 117\n",
      "INFO   step:  1900,    loss: 2.6350e+01, Y0: 5.6616e+01,   elapsed time: 117\n",
      "INFO   step:  2000,    loss: 2.6219e+01, Y0: 5.6696e+01,   elapsed time: 124\n",
      "INFO   step:  2000,    loss: 2.6219e+01, Y0: 5.6696e+01,   elapsed time: 124\n",
      "INFO   step:  2100,    loss: 2.6126e+01, Y0: 5.6775e+01,   elapsed time: 130\n",
      "INFO   step:  2100,    loss: 2.6126e+01, Y0: 5.6775e+01,   elapsed time: 130\n",
      "INFO   step:  2200,    loss: 2.5872e+01, Y0: 5.6864e+01,   elapsed time: 135\n",
      "INFO   step:  2200,    loss: 2.5872e+01, Y0: 5.6864e+01,   elapsed time: 135\n",
      "INFO   step:  2300,    loss: 2.5774e+01, Y0: 5.6909e+01,   elapsed time: 140\n",
      "INFO   step:  2300,    loss: 2.5774e+01, Y0: 5.6909e+01,   elapsed time: 140\n",
      "INFO   step:  2400,    loss: 2.5852e+01, Y0: 5.6923e+01,   elapsed time: 145\n",
      "INFO   step:  2400,    loss: 2.5852e+01, Y0: 5.6923e+01,   elapsed time: 145\n",
      "INFO   step:  2500,    loss: 2.5916e+01, Y0: 5.6951e+01,   elapsed time: 151\n",
      "INFO   step:  2500,    loss: 2.5916e+01, Y0: 5.6951e+01,   elapsed time: 151\n",
      "INFO   step:  2600,    loss: 2.5856e+01, Y0: 5.6991e+01,   elapsed time: 156\n",
      "INFO   step:  2600,    loss: 2.5856e+01, Y0: 5.6991e+01,   elapsed time: 156\n",
      "INFO   step:  2700,    loss: 2.5891e+01, Y0: 5.7032e+01,   elapsed time: 161\n",
      "INFO   step:  2700,    loss: 2.5891e+01, Y0: 5.7032e+01,   elapsed time: 161\n",
      "INFO   step:  2800,    loss: 2.5872e+01, Y0: 5.7029e+01,   elapsed time: 166\n",
      "INFO   step:  2800,    loss: 2.5872e+01, Y0: 5.7029e+01,   elapsed time: 166\n",
      "INFO   step:  2900,    loss: 2.5910e+01, Y0: 5.7056e+01,   elapsed time: 171\n",
      "INFO   step:  2900,    loss: 2.5910e+01, Y0: 5.7056e+01,   elapsed time: 171\n",
      "INFO   step:  3000,    loss: 2.5891e+01, Y0: 5.7080e+01,   elapsed time: 177\n",
      "INFO   step:  3000,    loss: 2.5891e+01, Y0: 5.7080e+01,   elapsed time: 177\n",
      "INFO   step:  3100,    loss: 2.5976e+01, Y0: 5.7073e+01,   elapsed time: 182\n",
      "INFO   step:  3100,    loss: 2.5976e+01, Y0: 5.7073e+01,   elapsed time: 182\n",
      "INFO   step:  3200,    loss: 2.5959e+01, Y0: 5.7073e+01,   elapsed time: 187\n",
      "INFO   step:  3200,    loss: 2.5959e+01, Y0: 5.7073e+01,   elapsed time: 187\n",
      "INFO   step:  3300,    loss: 2.5990e+01, Y0: 5.7070e+01,   elapsed time: 193\n",
      "INFO   step:  3300,    loss: 2.5990e+01, Y0: 5.7070e+01,   elapsed time: 193\n",
      "INFO   step:  3400,    loss: 2.6034e+01, Y0: 5.7091e+01,   elapsed time: 198\n",
      "INFO   step:  3400,    loss: 2.6034e+01, Y0: 5.7091e+01,   elapsed time: 198\n",
      "INFO   step:  3500,    loss: 2.5903e+01, Y0: 5.7078e+01,   elapsed time: 203\n",
      "INFO   step:  3500,    loss: 2.5903e+01, Y0: 5.7078e+01,   elapsed time: 203\n",
      "INFO   step:  3600,    loss: 2.5778e+01, Y0: 5.7058e+01,   elapsed time: 209\n",
      "INFO   step:  3600,    loss: 2.5778e+01, Y0: 5.7058e+01,   elapsed time: 209\n",
      "INFO   step:  3700,    loss: 2.5822e+01, Y0: 5.7058e+01,   elapsed time: 214\n",
      "INFO   step:  3700,    loss: 2.5822e+01, Y0: 5.7058e+01,   elapsed time: 214\n",
      "INFO   step:  3800,    loss: 2.5851e+01, Y0: 5.7064e+01,   elapsed time: 219\n",
      "INFO   step:  3800,    loss: 2.5851e+01, Y0: 5.7064e+01,   elapsed time: 219\n",
      "INFO   step:  3900,    loss: 2.5883e+01, Y0: 5.7043e+01,   elapsed time: 224\n",
      "INFO   step:  3900,    loss: 2.5883e+01, Y0: 5.7043e+01,   elapsed time: 224\n",
      "INFO   step:  4000,    loss: 2.5873e+01, Y0: 5.7001e+01,   elapsed time: 229\n",
      "INFO   step:  4000,    loss: 2.5873e+01, Y0: 5.7001e+01,   elapsed time: 229\n",
      "INFO   step:  4100,    loss: 2.5916e+01, Y0: 5.7021e+01,   elapsed time: 234\n",
      "INFO   step:  4100,    loss: 2.5916e+01, Y0: 5.7021e+01,   elapsed time: 234\n",
      "INFO   step:  4200,    loss: 2.5949e+01, Y0: 5.7060e+01,   elapsed time: 239\n",
      "INFO   step:  4200,    loss: 2.5949e+01, Y0: 5.7060e+01,   elapsed time: 239\n",
      "INFO   step:  4300,    loss: 2.5814e+01, Y0: 5.7080e+01,   elapsed time: 245\n",
      "INFO   step:  4300,    loss: 2.5814e+01, Y0: 5.7080e+01,   elapsed time: 245\n",
      "INFO   step:  4400,    loss: 2.5823e+01, Y0: 5.7116e+01,   elapsed time: 250\n",
      "INFO   step:  4400,    loss: 2.5823e+01, Y0: 5.7116e+01,   elapsed time: 250\n",
      "INFO   step:  4500,    loss: 2.5796e+01, Y0: 5.7031e+01,   elapsed time: 255\n",
      "INFO   step:  4500,    loss: 2.5796e+01, Y0: 5.7031e+01,   elapsed time: 255\n",
      "INFO   step:  4600,    loss: 2.5773e+01, Y0: 5.7041e+01,   elapsed time: 260\n",
      "INFO   step:  4600,    loss: 2.5773e+01, Y0: 5.7041e+01,   elapsed time: 260\n",
      "INFO   step:  4700,    loss: 2.5787e+01, Y0: 5.7044e+01,   elapsed time: 265\n",
      "INFO   step:  4700,    loss: 2.5787e+01, Y0: 5.7044e+01,   elapsed time: 265\n",
      "INFO   step:  4800,    loss: 2.5792e+01, Y0: 5.7046e+01,   elapsed time: 270\n",
      "INFO   step:  4800,    loss: 2.5792e+01, Y0: 5.7046e+01,   elapsed time: 270\n",
      "INFO   step:  4900,    loss: 2.5692e+01, Y0: 5.7083e+01,   elapsed time: 275\n",
      "INFO   step:  4900,    loss: 2.5692e+01, Y0: 5.7083e+01,   elapsed time: 275\n",
      "INFO   step:  5000,    loss: 2.5666e+01, Y0: 5.7065e+01,   elapsed time: 280\n",
      "INFO   step:  5000,    loss: 2.5666e+01, Y0: 5.7065e+01,   elapsed time: 280\n",
      "INFO   step:  5100,    loss: 2.5653e+01, Y0: 5.7031e+01,   elapsed time: 286\n",
      "INFO   step:  5100,    loss: 2.5653e+01, Y0: 5.7031e+01,   elapsed time: 286\n",
      "INFO   step:  5200,    loss: 2.5631e+01, Y0: 5.7024e+01,   elapsed time: 291\n",
      "INFO   step:  5200,    loss: 2.5631e+01, Y0: 5.7024e+01,   elapsed time: 291\n",
      "INFO   step:  5300,    loss: 2.5729e+01, Y0: 5.7014e+01,   elapsed time: 296\n",
      "INFO   step:  5300,    loss: 2.5729e+01, Y0: 5.7014e+01,   elapsed time: 296\n",
      "INFO   step:  5400,    loss: 2.5708e+01, Y0: 5.7092e+01,   elapsed time: 301\n",
      "INFO   step:  5400,    loss: 2.5708e+01, Y0: 5.7092e+01,   elapsed time: 301\n",
      "INFO   step:  5500,    loss: 2.5784e+01, Y0: 5.7007e+01,   elapsed time: 306\n",
      "INFO   step:  5500,    loss: 2.5784e+01, Y0: 5.7007e+01,   elapsed time: 306\n",
      "INFO   step:  5600,    loss: 2.5705e+01, Y0: 5.7032e+01,   elapsed time: 311\n",
      "INFO   step:  5600,    loss: 2.5705e+01, Y0: 5.7032e+01,   elapsed time: 311\n",
      "INFO   step:  5700,    loss: 2.5645e+01, Y0: 5.7054e+01,   elapsed time: 316\n",
      "INFO   step:  5700,    loss: 2.5645e+01, Y0: 5.7054e+01,   elapsed time: 316\n",
      "INFO   step:  5800,    loss: 2.5576e+01, Y0: 5.7097e+01,   elapsed time: 321\n",
      "INFO   step:  5800,    loss: 2.5576e+01, Y0: 5.7097e+01,   elapsed time: 321\n",
      "INFO   step:  5900,    loss: 2.5618e+01, Y0: 5.7048e+01,   elapsed time: 326\n",
      "INFO   step:  5900,    loss: 2.5618e+01, Y0: 5.7048e+01,   elapsed time: 326\n",
      "INFO   step:  6000,    loss: 2.5569e+01, Y0: 5.7104e+01,   elapsed time: 331\n",
      "INFO   step:  6000,    loss: 2.5569e+01, Y0: 5.7104e+01,   elapsed time: 331\n"
     ]
    }
   ],
   "source": [
    "!python main.py --config_path=configs/pricing_default_risk_d100.json"
   ]
  },
  {
   "cell_type": "markdown",
   "id": "6f10f65b",
   "metadata": {},
   "source": [
    "- Solution: It takes 5 minutes to come up with solution $Y_0 = 5.7104$ at the loss function value 25.569 (too big)."
   ]
  },
  {
   "cell_type": "markdown",
   "id": "05baad6d",
   "metadata": {},
   "source": [
    "## Allen cahn\n"
   ]
  },
  {
   "cell_type": "code",
   "execution_count": 12,
   "id": "7a51799a",
   "metadata": {},
   "outputs": [
    {
     "name": "stdout",
     "output_type": "stream",
     "text": [
      "INFO   Begin to solve AllenCahn \n",
      "INFO   step:     0,    loss: 1.1524e-01, Y0: 4.6890e-01,   elapsed time:   0\n",
      "INFO   step:   100,    loss: 8.7380e-02, Y0: 4.2047e-01,   elapsed time:  11\n",
      "INFO   step:   200,    loss: 6.5620e-02, Y0: 3.7590e-01,   elapsed time:  14\n",
      "INFO   step:   300,    loss: 4.9656e-02, Y0: 3.3529e-01,   elapsed time:  16\n",
      "INFO   step:   400,    loss: 3.7082e-02, Y0: 2.9787e-01,   elapsed time:  18\n",
      "INFO   step:   500,    loss: 2.7470e-02, Y0: 2.6369e-01,   elapsed time:  21\n",
      "INFO   step:   600,    loss: 2.0085e-02, Y0: 2.3272e-01,   elapsed time:  23\n",
      "INFO   step:   700,    loss: 1.4477e-02, Y0: 2.0497e-01,   elapsed time:  25\n",
      "INFO   step:   800,    loss: 1.0261e-02, Y0: 1.8008e-01,   elapsed time:  28\n",
      "INFO   step:   900,    loss: 7.1593e-03, Y0: 1.5800e-01,   elapsed time:  30\n",
      "INFO   step:  1000,    loss: 4.8958e-03, Y0: 1.3863e-01,   elapsed time:  32\n",
      "INFO   step:  1100,    loss: 3.3019e-03, Y0: 1.2196e-01,   elapsed time:  35\n",
      "INFO   step:  1200,    loss: 2.2192e-03, Y0: 1.0775e-01,   elapsed time:  37\n",
      "INFO   step:  1300,    loss: 1.4793e-03, Y0: 9.5607e-02,   elapsed time:  39\n",
      "INFO   step:  1400,    loss: 1.0114e-03, Y0: 8.5747e-02,   elapsed time:  42\n",
      "INFO   step:  1500,    loss: 7.1178e-04, Y0: 7.7550e-02,   elapsed time:  44\n",
      "INFO   step:  1600,    loss: 5.2699e-04, Y0: 7.1119e-02,   elapsed time:  46\n",
      "INFO   step:  1700,    loss: 4.1521e-04, Y0: 6.6145e-02,   elapsed time:  49\n",
      "INFO   step:  1800,    loss: 3.5203e-04, Y0: 6.2286e-02,   elapsed time:  51\n",
      "INFO   step:  1900,    loss: 3.1737e-04, Y0: 5.9389e-02,   elapsed time:  53\n",
      "INFO   step:  2000,    loss: 2.9420e-04, Y0: 5.7392e-02,   elapsed time:  56\n",
      "INFO   step:  2100,    loss: 2.8404e-04, Y0: 5.5749e-02,   elapsed time:  58\n",
      "INFO   step:  2200,    loss: 2.7163e-04, Y0: 5.4531e-02,   elapsed time:  60\n",
      "INFO   step:  2300,    loss: 2.6684e-04, Y0: 5.3930e-02,   elapsed time:  63\n",
      "INFO   step:  2400,    loss: 2.6148e-04, Y0: 5.3563e-02,   elapsed time:  65\n",
      "INFO   step:  2500,    loss: 2.5904e-04, Y0: 5.3301e-02,   elapsed time:  67\n",
      "INFO   step:  2600,    loss: 2.5908e-04, Y0: 5.3279e-02,   elapsed time:  70\n",
      "INFO   step:  2700,    loss: 2.5776e-04, Y0: 5.3033e-02,   elapsed time:  72\n",
      "INFO   step:  2800,    loss: 2.5477e-04, Y0: 5.3171e-02,   elapsed time:  74\n",
      "INFO   step:  2900,    loss: 2.4695e-04, Y0: 5.3066e-02,   elapsed time:  76\n",
      "INFO   step:  3000,    loss: 2.4057e-04, Y0: 5.3001e-02,   elapsed time:  79\n",
      "INFO   step:  3100,    loss: 2.3710e-04, Y0: 5.3009e-02,   elapsed time:  81\n",
      "INFO   step:  3200,    loss: 2.3734e-04, Y0: 5.3043e-02,   elapsed time:  83\n",
      "INFO   step:  3300,    loss: 2.3193e-04, Y0: 5.2856e-02,   elapsed time:  86\n",
      "INFO   step:  3400,    loss: 2.2657e-04, Y0: 5.3028e-02,   elapsed time:  88\n",
      "INFO   step:  3500,    loss: 2.2218e-04, Y0: 5.3100e-02,   elapsed time:  90\n",
      "INFO   step:  3600,    loss: 2.1944e-04, Y0: 5.3153e-02,   elapsed time:  93\n",
      "INFO   step:  3700,    loss: 2.1704e-04, Y0: 5.3075e-02,   elapsed time:  95\n",
      "INFO   step:  3800,    loss: 2.1117e-04, Y0: 5.2760e-02,   elapsed time:  97\n",
      "INFO   step:  3900,    loss: 2.0774e-04, Y0: 5.2746e-02,   elapsed time: 100\n",
      "INFO   step:  4000,    loss: 1.9783e-04, Y0: 5.2715e-02,   elapsed time: 102\n"
     ]
    }
   ],
   "source": [
    "!python main.py --config_path=configs/allencahn_d100.json"
   ]
  },
  {
   "cell_type": "code",
   "execution_count": null,
   "id": "37855de9",
   "metadata": {},
   "outputs": [],
   "source": []
  }
 ],
 "metadata": {
  "kernelspec": {
   "display_name": "deepbsde",
   "language": "python",
   "name": "python3"
  },
  "language_info": {
   "codemirror_mode": {
    "name": "ipython",
    "version": 3
   },
   "file_extension": ".py",
   "mimetype": "text/x-python",
   "name": "python",
   "nbconvert_exporter": "python",
   "pygments_lexer": "ipython3",
   "version": "3.11.13"
  }
 },
 "nbformat": 4,
 "nbformat_minor": 5
}
